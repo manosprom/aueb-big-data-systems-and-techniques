{
 "cells": [
  {
   "cell_type": "markdown",
   "metadata": {},
   "source": [
    "# Task 2"
   ]
  },
  {
   "cell_type": "markdown",
   "metadata": {},
   "source": [
    "# Get only categories for shoes"
   ]
  },
  {
   "cell_type": "markdown",
   "metadata": {},
   "source": [
    "Select all rows from products where the category name contains the string \"shoes\""
   ]
  },
  {
   "cell_type": "code",
   "execution_count": 1,
   "metadata": {},
   "outputs": [],
   "source": [
    "from pyspark.sql import SparkSession\n",
    "from pyspark.sql import Row\n",
    "\n",
    "df = spark.read \\\n",
    "    .format(\"jdbc\") \\\n",
    "    .option(\"url\", \"jdbc:postgresql://managed-pg:5432/products\") \\\n",
    "    .option(\"driver\",\"org.postgresql.Driver\") \\\n",
    "    .option(\"dbtable\", \"(select * from temp_products where UPPER(category_name) like UPPER('%shoes%')) as test\") \\\n",
    "    .option(\"user\", \"postgres\") \\\n",
    "    .option(\"password\", \"postgres\") \\\n",
    "    .load()"
   ]
  },
  {
   "cell_type": "markdown",
   "metadata": {},
   "source": [
    "## Schema of selected DF"
   ]
  },
  {
   "cell_type": "code",
   "execution_count": 2,
   "metadata": {},
   "outputs": [
    {
     "name": "stdout",
     "output_type": "stream",
     "text": [
      "root\n",
      " |-- product_id: integer (nullable = true)\n",
      " |-- name: string (nullable = true)\n",
      " |-- upc_id: string (nullable = true)\n",
      " |-- descr: string (nullable = true)\n",
      " |-- vendor_catalog_url: string (nullable = true)\n",
      " |-- buy_url: string (nullable = true)\n",
      " |-- manufacturer_name: string (nullable = true)\n",
      " |-- sale_price: decimal(38,18) (nullable = true)\n",
      " |-- retail_price: decimal(38,18) (nullable = true)\n",
      " |-- manufacturer_part_no: string (nullable = true)\n",
      " |-- country: string (nullable = true)\n",
      " |-- vendor_id: integer (nullable = true)\n",
      " |-- category_name: string (nullable = true)\n",
      " |-- category_code: string (nullable = true)\n",
      " |-- category_id: integer (nullable = true)\n",
      "\n"
     ]
    }
   ],
   "source": [
    "df.printSchema()"
   ]
  },
  {
   "cell_type": "markdown",
   "metadata": {},
   "source": [
    "## Save the selected rows in parquet \n",
    "\n",
    "> under hdfs://data/exercise/shoes.parquet"
   ]
  },
  {
   "cell_type": "code",
   "execution_count": 3,
   "metadata": {},
   "outputs": [],
   "source": [
    "df.write.mode(\"overwrite\").parquet(\"hdfs:///data/exercise/shoes.parquet\")"
   ]
  }
 ],
 "metadata": {
  "kernelspec": {
   "display_name": "Python 2",
   "language": "python",
   "name": "python2"
  },
  "language_info": {
   "codemirror_mode": {
    "name": "ipython",
    "version": 2
   },
   "file_extension": ".py",
   "mimetype": "text/x-python",
   "name": "python",
   "nbconvert_exporter": "python",
   "pygments_lexer": "ipython2",
   "version": "2.7.12"
  }
 },
 "nbformat": 4,
 "nbformat_minor": 2
}
